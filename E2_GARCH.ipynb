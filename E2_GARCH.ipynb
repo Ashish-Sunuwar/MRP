{
  "nbformat": 4,
  "nbformat_minor": 0,
  "metadata": {
    "colab": {
      "provenance": [],
      "machine_shape": "hm"
    },
    "kernelspec": {
      "name": "python3",
      "display_name": "Python 3"
    },
    "language_info": {
      "name": "python"
    }
  },
  "cells": [
    {
      "cell_type": "code",
      "execution_count": 1,
      "metadata": {
        "colab": {
          "base_uri": "https://localhost:8080/"
        },
        "id": "3r4ZBJQuVb_f",
        "outputId": "b85219c3-a901-45c3-c713-b082aef71101"
      },
      "outputs": [
        {
          "output_type": "stream",
          "name": "stdout",
          "text": [
            "Mounted at /content/drive\n"
          ]
        }
      ],
      "source": [
        "from google.colab import drive\n",
        "drive.mount('/content/drive')"
      ]
    },
    {
      "cell_type": "code",
      "source": [
        "!pip install arch\n",
        "\n",
        "import pandas as pd\n",
        "from arch import arch_model\n",
        "from sklearn.metrics import (\n",
        "    accuracy_score, precision_score, recall_score,\n",
        "    f1_score, roc_auc_score, confusion_matrix\n",
        ")\n",
        "\n",
        "import warnings\n",
        "from arch.univariate.base import ConvergenceWarning, DataScaleWarning\n",
        "\n",
        "warnings.filterwarnings(\"ignore\", category=DataScaleWarning)\n",
        "warnings.filterwarnings(\"ignore\", category=ConvergenceWarning)\n",
        "\n",
        "\n",
        "# Load & compute lagged return\n",
        "file_path = '/content/drive/MyDrive/MRP/final_dataset.csv'\n",
        "df = pd.read_csv(file_path, parse_dates=['date'])\n",
        "df = df.sort_values(['symbol','date']).reset_index(drop=True)\n",
        "\n",
        "# compute 1-day lagged return and drop the NaNs it creates\n",
        "df['return_1d_lag1'] = df.groupby('symbol')['return_1d'].shift(1)\n",
        "df = df.dropna(subset=['return_1d_lag1']).reset_index(drop=True)\n",
        "\n",
        "# Chronological train/val/test splits\n",
        "train = df[df['date'] <= '2021-12-31']\n",
        "val   = df[(df['date'] > '2021-12-31') & (df['date'] <= '2022-12-31')]\n",
        "test  = df[df['date'] > '2022-12-31']\n",
        "\n",
        "# Container for per-symbol forecasts\n",
        "all_preds = []\n",
        "\n",
        "# Loop over each stock symbol\n",
        "for sym, grp in df.groupby('symbol'):\n",
        "    # extract the symbol-specific lagged series from training set\n",
        "    train_ser = train[train['symbol'] == sym]['return_1d_lag1']\n",
        "    # identify test indices and true targets\n",
        "    test_idx  = test[test['symbol'] == sym].index\n",
        "    true_tgt  = test.loc[test_idx, 'target']\n",
        "\n",
        "    # skip symbols with too little history or no test points\n",
        "    if len(train_ser) < 30 or len(test_idx) == 0:\n",
        "        continue\n",
        "\n",
        "    try:\n",
        "        # specify & fit GARCH(1,1) with AR(1) mean on the lagged series\n",
        "        am  = arch_model(\n",
        "            train_ser,\n",
        "            mean='AR', lags=1,\n",
        "            vol='GARCH', p=1, q=1,\n",
        "            dist='normal',\n",
        "            rescale=False\n",
        "        )\n",
        "        res = am.fit(disp='off', show_warning=False)\n",
        "\n",
        "        # multi-step forecast out to the test horizon\n",
        "        fcast      = res.forecast(horizon=len(test_idx), reindex=False)\n",
        "        mean_preds = fcast.mean.iloc[0].values  # forecast of return_1d_lag1\n",
        "\n",
        "        # assemble a per-symbol DataFrame\n",
        "        preds = pd.DataFrame({\n",
        "            'symbol'     : sym,\n",
        "            'date'       : test.loc[test_idx, 'date'],\n",
        "            'pred_return': mean_preds,\n",
        "            'true_target': true_tgt\n",
        "        }, index=test_idx)\n",
        "\n",
        "        all_preds.append(preds)\n",
        "\n",
        "    except Exception:\n",
        "        # skip any symbol where the model fails to converge\n",
        "        continue\n",
        "\n",
        "# aggregate & binarize\n",
        "pred_df = pd.concat(all_preds).sort_index()\n",
        "pred_df['pred_target'] = (pred_df['pred_return'] > 0).astype(int)\n",
        "\n",
        "# compute classification metrics on test set\n",
        "y_true = pred_df['true_target']\n",
        "y_pred = pred_df['pred_target']\n",
        "\n",
        "print(\"GARCH(1,1)+AR(1) on lagged-return series (no leakage):\")\n",
        "print(f\"  Accuracy      : {accuracy_score(y_true, y_pred):.4f}\")\n",
        "print(f\"  Precision     : {precision_score(y_true, y_pred):.4f}\")\n",
        "print(f\"  Recall        : {recall_score(y_true, y_pred):.4f}\")\n",
        "print(f\"  F1 Score      : {f1_score(y_true, y_pred):.4f}\")\n",
        "print(f\"  ROC AUC       : {roc_auc_score(y_true, pred_df['pred_return']):.4f}\")\n",
        "print(\"  Confusion Matrix:\")\n",
        "print(confusion_matrix(y_true, y_pred))"
      ],
      "metadata": {
        "colab": {
          "base_uri": "https://localhost:8080/"
        },
        "id": "h78vEYdvWoaG",
        "outputId": "719dfe21-c302-4baa-fd6a-e05a892f91de"
      },
      "execution_count": 2,
      "outputs": [
        {
          "output_type": "stream",
          "name": "stdout",
          "text": [
            "Collecting arch\n",
            "  Downloading arch-7.2.0-cp311-cp311-manylinux_2_17_x86_64.manylinux2014_x86_64.whl.metadata (13 kB)\n",
            "Requirement already satisfied: numpy>=1.22.3 in /usr/local/lib/python3.11/dist-packages (from arch) (2.0.2)\n",
            "Requirement already satisfied: scipy>=1.8 in /usr/local/lib/python3.11/dist-packages (from arch) (1.15.3)\n",
            "Requirement already satisfied: pandas>=1.4 in /usr/local/lib/python3.11/dist-packages (from arch) (2.2.2)\n",
            "Requirement already satisfied: statsmodels>=0.12 in /usr/local/lib/python3.11/dist-packages (from arch) (0.14.5)\n",
            "Requirement already satisfied: python-dateutil>=2.8.2 in /usr/local/lib/python3.11/dist-packages (from pandas>=1.4->arch) (2.9.0.post0)\n",
            "Requirement already satisfied: pytz>=2020.1 in /usr/local/lib/python3.11/dist-packages (from pandas>=1.4->arch) (2025.2)\n",
            "Requirement already satisfied: tzdata>=2022.7 in /usr/local/lib/python3.11/dist-packages (from pandas>=1.4->arch) (2025.2)\n",
            "Requirement already satisfied: patsy>=0.5.6 in /usr/local/lib/python3.11/dist-packages (from statsmodels>=0.12->arch) (1.0.1)\n",
            "Requirement already satisfied: packaging>=21.3 in /usr/local/lib/python3.11/dist-packages (from statsmodels>=0.12->arch) (24.2)\n",
            "Requirement already satisfied: six>=1.5 in /usr/local/lib/python3.11/dist-packages (from python-dateutil>=2.8.2->pandas>=1.4->arch) (1.17.0)\n",
            "Downloading arch-7.2.0-cp311-cp311-manylinux_2_17_x86_64.manylinux2014_x86_64.whl (985 kB)\n",
            "\u001b[2K   \u001b[90m━━━━━━━━━━━━━━━━━━━━━━━━━━━━━━━━━━━━━━━━\u001b[0m \u001b[32m985.3/985.3 kB\u001b[0m \u001b[31m12.3 MB/s\u001b[0m eta \u001b[36m0:00:00\u001b[0m\n",
            "\u001b[?25hInstalling collected packages: arch\n",
            "Successfully installed arch-7.2.0\n"
          ]
        },
        {
          "output_type": "stream",
          "name": "stderr",
          "text": [
            "/usr/local/lib/python3.11/dist-packages/arch/univariate/mean.py:1000: RuntimeWarning: overflow encountered in square\n",
            "  lrf = var_fcasts[:, : (i + 1)].dot(impulse[i::-1] ** 2)\n"
          ]
        },
        {
          "output_type": "stream",
          "name": "stdout",
          "text": [
            "GARCH(1,1)+AR(1) on lagged-return series (no leakage):\n",
            "  Accuracy      : 0.5106\n",
            "  Precision     : 0.5110\n",
            "  Recall        : 0.6649\n",
            "  F1 Score      : 0.5779\n",
            "  ROC AUC       : 0.5115\n",
            "  Confusion Matrix:\n",
            "[[ 99230 181243]\n",
            " [ 95436 189386]]\n"
          ]
        }
      ]
    }
  ]
}