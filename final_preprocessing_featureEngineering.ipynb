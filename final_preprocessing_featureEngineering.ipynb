{
  "cells": [
    {
      "cell_type": "code",
      "execution_count": 1,
      "metadata": {
        "colab": {
          "base_uri": "https://localhost:8080/"
        },
        "id": "YsUzwB4b-UvU",
        "outputId": "9010d4c1-9a6d-4e68-8043-952475d1150e"
      },
      "outputs": [
        {
          "output_type": "stream",
          "name": "stdout",
          "text": [
            "Mounted at /content/drive/\n"
          ]
        }
      ],
      "source": [
        "from google.colab import drive\n",
        "drive.mount('/content/drive/')"
      ]
    },
    {
      "cell_type": "code",
      "execution_count": 2,
      "metadata": {
        "id": "XjO_pUuV-WAA"
      },
      "outputs": [],
      "source": [
        "import pandas as pd\n",
        "import numpy as np\n",
        "from scipy.stats import skew, kurtosis\n",
        "\n",
        "# Load dataset\n",
        "df = pd.read_csv('/content/drive/MyDrive/MRP/merged_price_news_data_ffilled.csv', parse_dates=['date'])"
      ]
    },
    {
      "cell_type": "code",
      "source": [
        "# Drop duplicate rows\n",
        "df.drop_duplicates(inplace=True)\n",
        "print(\"New shape after dropping duplicates:\", df.shape)"
      ],
      "metadata": {
        "colab": {
          "base_uri": "https://localhost:8080/"
        },
        "id": "QwCteoGpZvS7",
        "outputId": "05a03371-0cc1-4ec2-e52f-fec71b785c1c"
      },
      "execution_count": 3,
      "outputs": [
        {
          "output_type": "stream",
          "name": "stdout",
          "text": [
            "New shape after dropping duplicates: (10851560, 17)\n"
          ]
        }
      ]
    },
    {
      "cell_type": "code",
      "source": [
        "# Remove invalid weekday entries\n",
        "df = df[df['day_of_week'] >= 0].copy()"
      ],
      "metadata": {
        "id": "oZ58lgS1ZvVj"
      },
      "execution_count": 4,
      "outputs": []
    },
    {
      "cell_type": "code",
      "source": [
        "# Remove rows with log_volume == 0 (invalid)\n",
        "df = df[df['log_volume'] > 0]\n",
        "print(f\"Rows after dropping log_volume == 0: {len(df):,}\")"
      ],
      "metadata": {
        "colab": {
          "base_uri": "https://localhost:8080/"
        },
        "id": "BPYBTOKZZvYB",
        "outputId": "b1afc85b-9581-4d3f-8cd8-595bc935512e"
      },
      "execution_count": 5,
      "outputs": [
        {
          "output_type": "stream",
          "name": "stdout",
          "text": [
            "Rows after dropping log_volume == 0: 8,415,260\n"
          ]
        }
      ]
    },
    {
      "cell_type": "code",
      "source": [
        "# Apply log1p to skewed price columns\n",
        "price_cols = ['open', 'high', 'low', 'adj close', 'ma_10']\n",
        "df.loc[:, price_cols] = df[price_cols].apply(np.log1p)\n"
      ],
      "metadata": {
        "id": "T4SohfZyZvas"
      },
      "execution_count": 6,
      "outputs": []
    },
    {
      "cell_type": "code",
      "source": [
        "# Cap extreme vol_30 values\n",
        "vol_cap = df['vol_30'].quantile(0.99)\n",
        "df.loc[:, 'vol_30'] = df['vol_30'].clip(upper=vol_cap)"
      ],
      "metadata": {
        "id": "JMdOQWMKZvdW"
      },
      "execution_count": 7,
      "outputs": []
    },
    {
      "cell_type": "code",
      "source": [
        "# Filter out unreliable symbols\n",
        "symbol_stats = df.groupby('symbol')['date'].agg(['min', 'max', 'count'])\n",
        "symbol_stats['duration_days'] = (symbol_stats['max'] - symbol_stats['min']).dt.days\n",
        "valid_symbols = symbol_stats[(symbol_stats['count'] >= 300) & (symbol_stats['duration_days'] >= 365)].index\n",
        "df = df[df['symbol'].isin(valid_symbols)].reset_index(drop=True)\n",
        "print(\"Remaining rows after symbol filtering:\", len(df))\n",
        "print(\"Remaining symbols:\", df['symbol'].nunique())"
      ],
      "metadata": {
        "colab": {
          "base_uri": "https://localhost:8080/"
        },
        "id": "vaNjGr8uZvf0",
        "outputId": "1d64d79f-fbe3-4a91-9dd1-02b51dd47145"
      },
      "execution_count": 8,
      "outputs": [
        {
          "output_type": "stream",
          "name": "stdout",
          "text": [
            "Remaining rows after symbol filtering: 8380665\n",
            "Remaining symbols: 5455\n"
          ]
        }
      ]
    },
    {
      "cell_type": "code",
      "source": [
        "# Drop constant or irrelevant columns\n",
        "if 'had_news' in df.columns and df['had_news'].nunique() <= 1:\n",
        "    df.drop(columns=['had_news'], inplace=True)\n",
        "    print(\"Dropped constant column: 'had_news'\")"
      ],
      "metadata": {
        "colab": {
          "base_uri": "https://localhost:8080/"
        },
        "id": "Vvkkv4vEZviI",
        "outputId": "c3197ae3-0d23-44ad-ff89-1d03d7e45c19"
      },
      "execution_count": 9,
      "outputs": [
        {
          "output_type": "stream",
          "name": "stdout",
          "text": [
            "Dropped constant column: 'had_news'\n"
          ]
        }
      ]
    },
    {
      "cell_type": "code",
      "source": [
        "# Drop redundant price columns\n",
        "df.drop(columns=['open', 'high', 'low'], inplace=True)\n",
        "print(\"Remaining columns:\", df.columns.tolist())"
      ],
      "metadata": {
        "colab": {
          "base_uri": "https://localhost:8080/"
        },
        "id": "wsytcJD9Zvkf",
        "outputId": "4042304c-f181-42ca-9f57-63e144abfdfd"
      },
      "execution_count": 10,
      "outputs": [
        {
          "output_type": "stream",
          "name": "stdout",
          "text": [
            "Remaining columns: ['date', 'symbol', 'adj close', 'log_volume', 'ma_10', 'vol_30', 'rsi_14', 'day_of_week', 'avg_sentiment', 'avg_sentiment_confidence', 'sentiment_std_7', 'news_count', 'news_count_capped']\n"
          ]
        }
      ]
    },
    {
      "cell_type": "code",
      "source": [
        "# Ensure proper datetime format and sort\n",
        "df['date'] = pd.to_datetime(df['date'])\n",
        "df = df.sort_values(['symbol', 'date']).reset_index(drop=True)"
      ],
      "metadata": {
        "id": "mRKpDgbyZvnA"
      },
      "execution_count": 11,
      "outputs": []
    },
    {
      "cell_type": "code",
      "source": [
        "# Compute 1-day forward return per symbol\n",
        "df['adj_close_next'] = df.groupby('symbol')['adj close'].shift(-1)\n",
        "df['return_1d'] = np.log(df['adj_close_next'] / df['adj close'])\n",
        "df.dropna(subset=['return_1d'], inplace=True)\n",
        "df.drop(columns=['adj_close_next'], inplace=True)"
      ],
      "metadata": {
        "id": "-kRcyMpvZvpL"
      },
      "execution_count": 12,
      "outputs": []
    },
    {
      "cell_type": "code",
      "source": [
        "# Drop more irrelevant columns if present\n",
        "df.drop(columns=[col for col in ['news_count', 'news_count_capped'] if col in df.columns], inplace=True)\n"
      ],
      "metadata": {
        "id": "TPl93talZ9YZ"
      },
      "execution_count": 13,
      "outputs": []
    },
    {
      "cell_type": "code",
      "source": [
        "# Filter out low-coverage symbols again (if needed)\n",
        "valid_symbols = df['symbol'].value_counts()[lambda x: x >= 252].index\n",
        "df = df[df['symbol'].isin(valid_symbols)].reset_index(drop=True)"
      ],
      "metadata": {
        "id": "Qe_xyUDcZ9a0"
      },
      "execution_count": 14,
      "outputs": []
    },
    {
      "cell_type": "code",
      "source": [
        "# Clip extreme return_1d values\n",
        "df = df[df['return_1d'].between(-1, 1)]"
      ],
      "metadata": {
        "id": "hDiTtUzCZ9c9"
      },
      "execution_count": 15,
      "outputs": []
    },
    {
      "cell_type": "code",
      "source": [
        "# Drop rows with suspicious log_volume (outside bounds)\n",
        "print(\"Extreme log_volume values:\\n\", df['log_volume'].describe())\n",
        "df = df[(df['log_volume'] >= 4) & (df['log_volume'] <= 16)]"
      ],
      "metadata": {
        "colab": {
          "base_uri": "https://localhost:8080/"
        },
        "id": "2iLFaTNJZ9fJ",
        "outputId": "abf0e910-f2de-4bc2-e0eb-98f62523d14b"
      },
      "execution_count": 16,
      "outputs": [
        {
          "output_type": "stream",
          "name": "stdout",
          "text": [
            "Extreme log_volume values:\n",
            " count    8.374814e+06\n",
            "mean     1.191545e+01\n",
            "std      2.318968e+00\n",
            "min      6.931472e-01\n",
            "25%      1.043620e+01\n",
            "50%      1.212324e+01\n",
            "75%      1.358031e+01\n",
            "max      1.660955e+01\n",
            "Name: log_volume, dtype: float64\n"
          ]
        }
      ]
    },
    {
      "cell_type": "code",
      "source": [
        "# Drop rows with low sentiment confidence\n",
        "df = df[df['avg_sentiment_confidence'] >= 0.6]"
      ],
      "metadata": {
        "id": "mu_6mRpraGlN"
      },
      "execution_count": 17,
      "outputs": []
    },
    {
      "cell_type": "code",
      "source": [
        "# Cap vol_30 again (safe re-cap after filtering)\n",
        "vol_cap = df['vol_30'].quantile(0.99)\n",
        "df['vol_30'] = np.clip(df['vol_30'], None, vol_cap)"
      ],
      "metadata": {
        "colab": {
          "base_uri": "https://localhost:8080/"
        },
        "id": "I-jGot5QaGnl",
        "outputId": "362b3f75-bcb7-46bb-f4ea-76af732ca6da"
      },
      "execution_count": 18,
      "outputs": [
        {
          "output_type": "stream",
          "name": "stderr",
          "text": [
            "/tmp/ipython-input-18-4073063453.py:3: SettingWithCopyWarning: \n",
            "A value is trying to be set on a copy of a slice from a DataFrame.\n",
            "Try using .loc[row_indexer,col_indexer] = value instead\n",
            "\n",
            "See the caveats in the documentation: https://pandas.pydata.org/pandas-docs/stable/user_guide/indexing.html#returning-a-view-versus-a-copy\n",
            "  df['vol_30'] = np.clip(df['vol_30'], None, vol_cap)\n"
          ]
        }
      ]
    },
    {
      "cell_type": "code",
      "source": [
        "# Final filter: remove weak/noise returns\n",
        "filtered_df = df[df['return_1d'].abs() > 0.002].copy()\n",
        "print(f\"Rows after return_1d thresholding: {len(filtered_df):,} / {len(df):,} \"\n",
        "      f\"({(len(filtered_df)/len(df))*100:.2f}%)\")"
      ],
      "metadata": {
        "colab": {
          "base_uri": "https://localhost:8080/"
        },
        "id": "AWKdrzp4aMGh",
        "outputId": "a72c488a-5796-4e97-8f31-6ddd4ad60cbb"
      },
      "execution_count": 19,
      "outputs": [
        {
          "output_type": "stream",
          "name": "stdout",
          "text": [
            "Rows after return_1d thresholding: 4,858,091 / 8,004,725 (60.69%)\n"
          ]
        }
      ]
    },
    {
      "cell_type": "code",
      "source": [
        "# Create binary target column\n",
        "filtered_df['target'] = (filtered_df['return_1d'] > 0).astype(int)"
      ],
      "metadata": {
        "id": "lHd_Wk1FaMJQ"
      },
      "execution_count": 20,
      "outputs": []
    },
    {
      "cell_type": "code",
      "source": [
        "\n",
        "# Save cleaned dataset\n",
        "filtered_df.to_csv(\"/content/drive/MyDrive/MRP/final_dataset.csv\", index=False)\n",
        "print(\"Saved filtered dataset as 'final_dataset.csv'\")"
      ],
      "metadata": {
        "colab": {
          "base_uri": "https://localhost:8080/"
        },
        "id": "wJBjHHgUaSC6",
        "outputId": "8e051721-cf0a-4e02-9979-66cab953a809"
      },
      "execution_count": 21,
      "outputs": [
        {
          "output_type": "stream",
          "name": "stdout",
          "text": [
            "Saved filtered dataset as 'final_dataset.csv'\n"
          ]
        }
      ]
    }
  ],
  "metadata": {
    "colab": {
      "machine_shape": "hm",
      "provenance": []
    },
    "kernelspec": {
      "display_name": "Python 3",
      "name": "python3"
    },
    "language_info": {
      "name": "python"
    }
  },
  "nbformat": 4,
  "nbformat_minor": 0
}