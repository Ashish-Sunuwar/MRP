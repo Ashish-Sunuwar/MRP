{
  "nbformat": 4,
  "nbformat_minor": 0,
  "metadata": {
    "colab": {
      "provenance": [],
      "machine_shape": "hm",
      "gpuType": "T4"
    },
    "kernelspec": {
      "name": "python3",
      "display_name": "Python 3"
    },
    "language_info": {
      "name": "python"
    },
    "accelerator": "GPU"
  },
  "cells": [
    {
      "cell_type": "code",
      "execution_count": 1,
      "metadata": {
        "colab": {
          "base_uri": "https://localhost:8080/"
        },
        "id": "aqW6BzggqxGC",
        "outputId": "66b0dc9b-102e-4860-a616-8c0dc5765b04"
      },
      "outputs": [
        {
          "output_type": "stream",
          "name": "stdout",
          "text": [
            "Mounted at /content/drive\n"
          ]
        }
      ],
      "source": [
        "# Mount Google Drive\n",
        "from google.colab import drive\n",
        "drive.mount('/content/drive')"
      ]
    },
    {
      "cell_type": "code",
      "source": [
        "import pandas as pd\n",
        "from sklearn.compose import ColumnTransformer\n",
        "from sklearn.pipeline import Pipeline\n",
        "from sklearn.preprocessing import OneHotEncoder\n",
        "from sklearn.ensemble import RandomForestClassifier\n",
        "from sklearn.metrics import (\n",
        "    accuracy_score, precision_score, recall_score,\n",
        "    f1_score, roc_auc_score, confusion_matrix\n",
        ")\n",
        "import warnings\n",
        "\n",
        "warnings.filterwarnings(\"ignore\")\n",
        "\n",
        "# Load & sort data\n",
        "file_path = '/content/drive/MyDrive/MRP/final_dataset.csv'\n",
        "df = pd.read_csv(file_path, parse_dates=['date'])\n",
        "df = df.sort_values(['symbol', 'date']).reset_index(drop=True)\n",
        "\n",
        "# Create a 1-day lagged return per symbol\n",
        "df['return_1d_lag1'] = df.groupby('symbol')['return_1d'].shift(1)\n",
        "\n",
        "# Drop rows with NaN lag\n",
        "df = df.dropna(subset=['return_1d_lag1']).reset_index(drop=True)\n",
        "\n",
        "# Chronological train/val/test split\n",
        "train = df[df['date'] <= '2021-12-31'].copy()\n",
        "val   = df[(df['date'] > '2021-12-31') & (df['date'] <= '2022-12-31')].copy()\n",
        "test  = df[df['date'] > '2022-12-31'].copy()\n",
        "\n",
        "print(f\"Train: {train.shape[0]} rows | Val: {val.shape[0]} rows | Test: {test.shape[0]} rows\")\n",
        "\n",
        "# Define feature columns and target\n",
        "price_feats = ['adj close', 'log_volume', 'ma_10', 'vol_30', 'rsi_14', 'return_1d_lag1']\n",
        "weekday     = ['day_of_week']\n",
        "target      = 'target'\n",
        "\n",
        "# Preprocessing: one-hot encode weekday, passthrough price_feats\n",
        "preprocessor = ColumnTransformer([\n",
        "    ('onehot_weekday', OneHotEncoder(drop='first', sparse_output=False), weekday)\n",
        "], remainder='passthrough')  # price_feats unchanged\n",
        "\n",
        "# Build pipeline with RandomForest\n",
        "pipeline = Pipeline([\n",
        "    ('preprocessor', preprocessor),\n",
        "    ('classifier',   RandomForestClassifier(\n",
        "                         n_estimators=100,\n",
        "                         random_state=42,\n",
        "                         n_jobs=-1\n",
        "                     ))\n",
        "])\n",
        "\n",
        "# Fit on training set\n",
        "X_train = train[price_feats + weekday]\n",
        "y_train = train[target]\n",
        "pipeline.fit(X_train, y_train)\n",
        "\n",
        "# Evaluate on test set\n",
        "X_test  = test[price_feats + weekday]\n",
        "y_test  = test[target]\n",
        "y_pred  = pipeline.predict(X_test)\n",
        "y_proba = pipeline.predict_proba(X_test)[:, 1]\n",
        "\n",
        "# Print performance metrics\n",
        "print(\"\\nRandom Forest (+ return_1d_lag1) Performance on Test Set:\")\n",
        "print(f\"  Accuracy      : {accuracy_score(y_test, y_pred):.4f}\")\n",
        "print(f\"  Precision     : {precision_score(y_test, y_pred):.4f}\")\n",
        "print(f\"  Recall        : {recall_score(y_test, y_pred):.4f}\")\n",
        "print(f\"  F1 Score      : {f1_score(y_test, y_pred):.4f}\")\n",
        "print(f\"  ROC AUC       : {roc_auc_score(y_test, y_proba):.4f}\")\n",
        "print(\"  Confusion Matrix:\")\n",
        "print(confusion_matrix(y_test, y_pred))"
      ],
      "metadata": {
        "colab": {
          "base_uri": "https://localhost:8080/"
        },
        "id": "yKq5XVefqy1x",
        "outputId": "469fdafd-186b-4d00-f05d-c1cf40aab09e"
      },
      "execution_count": 2,
      "outputs": [
        {
          "output_type": "stream",
          "name": "stdout",
          "text": [
            "Train: 3636876 rows | Val: 644115 rows | Test: 571664 rows\n",
            "\n",
            "Random Forest (+ return_1d_lag1) Performance on Test Set:\n",
            "  Accuracy      : 0.5089\n",
            "  Precision     : 0.5121\n",
            "  Recall        : 0.5490\n",
            "  F1 Score      : 0.5299\n",
            "  ROC AUC       : 0.5131\n",
            "  Confusion Matrix:\n",
            "[[132719 150723]\n",
            " [130001 158221]]\n"
          ]
        }
      ]
    },
    {
      "cell_type": "code",
      "source": [],
      "metadata": {
        "id": "8sqDcmksMLoq"
      },
      "execution_count": 3,
      "outputs": []
    }
  ]
}