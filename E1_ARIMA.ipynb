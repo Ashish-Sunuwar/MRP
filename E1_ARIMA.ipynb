{
  "cells": [
    {
      "cell_type": "code",
      "execution_count": null,
      "metadata": {
        "colab": {
          "base_uri": "https://localhost:8080/"
        },
        "id": "d6l8VibIi4FP",
        "outputId": "840b3191-9f57-4c0b-ab34-d96ce04008c9"
      },
      "outputs": [
        {
          "name": "stdout",
          "output_type": "stream",
          "text": [
            "Mounted at /content/drive\n"
          ]
        }
      ],
      "source": [
        "# Mount & imports\n",
        "from google.colab import drive\n",
        "drive.mount('/content/drive')"
      ]
    },
    {
      "cell_type": "code",
      "execution_count": 3,
      "metadata": {
        "colab": {
          "base_uri": "https://localhost:8080/"
        },
        "id": "-z43HU9Ni6l5",
        "outputId": "b5b18fd5-7eee-4eef-b4b6-e362b2381fc0"
      },
      "outputs": [
        {
          "name": "stdout",
          "output_type": "stream",
          "text": [
            "ARIMA(on return_1d_lag1) Performance on Test Set:\n",
            "  Accuracy   : 0.5073\n",
            "  Precision  : 0.5092\n",
            "  Recall     : 0.6150\n",
            "  F1 Score   : 0.5571\n",
            "  ROC AUC    : 0.5089\n",
            "  Confusion Matrix:\n",
            "[[111627 168846]\n",
            " [109659 175163]]\n"
          ]
        }
      ],
      "source": [
        "import pandas as pd\n",
        "import numpy as np\n",
        "from statsmodels.tsa.arima.model import ARIMA\n",
        "from sklearn.metrics import (\n",
        "    accuracy_score, precision_score, recall_score,\n",
        "    f1_score, roc_auc_score, confusion_matrix\n",
        ")\n",
        "import warnings\n",
        "warnings.filterwarnings(\"ignore\")\n",
        "\n",
        "# Load, sort, and compute lagged return\n",
        "df = pd.read_csv('/content/drive/MyDrive/MRP/final_dataset.csv', parse_dates=['date'])\n",
        "df = df.sort_values(['symbol','date']).reset_index(drop=True)\n",
        "\n",
        "# compute 1-day lagged return and drop any rows where it’s NaN\n",
        "df['return_1d_lag1'] = df.groupby('symbol')['return_1d'].shift(1)\n",
        "df = df.dropna(subset=['return_1d_lag1']).reset_index(drop=True)\n",
        "\n",
        "# Chronological splits\n",
        "train = df[   df['date'] <= '2021-12-31']\n",
        "val   = df[(df['date'] > '2021-12-31') & (df['date'] <= '2022-12-31')]\n",
        "test  = df[   df['date'] >  '2022-12-31']\n",
        "\n",
        "# Per-symbol ARIMA on the lagged series\n",
        "all_preds = []\n",
        "for sym, _ in df.groupby('symbol'):\n",
        "    # extract each symbol’s train-lagged series and test indices\n",
        "    tr_idx = train[train['symbol']==sym].index\n",
        "    te_idx =  test[test['symbol']==sym].index\n",
        "    if len(tr_idx) < 30 or len(te_idx)==0:\n",
        "        continue\n",
        "\n",
        "    y_train = train.loc[tr_idx, 'return_1d_lag1']\n",
        "    y_true  = test.loc[te_idx,  'target']\n",
        "\n",
        "    try:\n",
        "        # fit ARIMA(1,0,1) on the lagged returns\n",
        "        m = ARIMA(y_train, order=(1,0,1)).fit()\n",
        "\n",
        "        # forecast “lagged return” for each test index\n",
        "        fc = m.forecast(steps=len(te_idx))\n",
        "        fc.index = te_idx\n",
        "\n",
        "        # assemble a small DataFrame for this symbol\n",
        "        dfp = pd.DataFrame({\n",
        "            'symbol'      : sym,\n",
        "            'date'        : test.loc[te_idx, 'date'],\n",
        "            'pred_return' : fc,\n",
        "            'true_target' : y_true\n",
        "        }, index=te_idx)\n",
        "        dfp['pred_target'] = (dfp['pred_return'] > 0).astype(int)\n",
        "        all_preds.append(dfp)\n",
        "\n",
        "    except Exception:\n",
        "        # in case ARIMA fails to converge\n",
        "        continue\n",
        "\n",
        "# Aggregate & Binarize\n",
        "pred_df = pd.concat(all_preds).sort_index()\n",
        "\n",
        "# Evaluate on Test Set\n",
        "y_true = pred_df['true_target']\n",
        "y_pred = pred_df['pred_target']\n",
        "y_prob = pred_df['pred_return']\n",
        "\n",
        "print(\"ARIMA(on return_1d_lag1) Performance on Test Set:\")\n",
        "print(f\"  Accuracy   : {accuracy_score(y_true, y_pred):.4f}\")\n",
        "print(f\"  Precision  : {precision_score(y_true, y_pred):.4f}\")\n",
        "print(f\"  Recall     : {recall_score(y_true, y_pred):.4f}\")\n",
        "print(f\"  F1 Score   : {f1_score(y_true, y_pred):.4f}\")\n",
        "print(f\"  ROC AUC    : {roc_auc_score(y_true, y_prob):.4f}\")\n",
        "print(\"  Confusion Matrix:\")\n",
        "print(confusion_matrix(y_true, y_pred))"
      ]
    }
  ],
  "metadata": {
    "colab": {
      "machine_shape": "hm",
      "provenance": []
    },
    "kernelspec": {
      "display_name": "Python 3",
      "name": "python3"
    },
    "language_info": {
      "name": "python"
    }
  },
  "nbformat": 4,
  "nbformat_minor": 0
}
