{
  "nbformat": 4,
  "nbformat_minor": 0,
  "metadata": {
    "colab": {
      "provenance": [],
      "machine_shape": "hm"
    },
    "kernelspec": {
      "name": "python3",
      "display_name": "Python 3"
    },
    "language_info": {
      "name": "python"
    }
  },
  "cells": [
    {
      "cell_type": "code",
      "execution_count": 1,
      "metadata": {
        "colab": {
          "base_uri": "https://localhost:8080/"
        },
        "id": "sqPukBAkP2wY",
        "outputId": "8c17996d-f030-4c5f-ac01-b50c4b4d382d"
      },
      "outputs": [
        {
          "output_type": "stream",
          "name": "stdout",
          "text": [
            "Mounted at /content/drive\n"
          ]
        }
      ],
      "source": [
        "# Mount Google Drive\n",
        "from google.colab import drive\n",
        "drive.mount('/content/drive')"
      ]
    },
    {
      "cell_type": "code",
      "source": [
        "import pandas as pd\n",
        "from sklearn.compose import ColumnTransformer\n",
        "from sklearn.pipeline import Pipeline\n",
        "from sklearn.preprocessing import OneHotEncoder\n",
        "import lightgbm as lgb\n",
        "from sklearn.metrics import (\n",
        "    accuracy_score, precision_score, recall_score,\n",
        "    f1_score, roc_auc_score, confusion_matrix\n",
        ")\n",
        "import warnings\n",
        "\n",
        "warnings.filterwarnings(\"ignore\")\n",
        "\n",
        "# Load & sort data\n",
        "file_path = '/content/drive/MyDrive/MRP/final_dataset.csv'\n",
        "df = pd.read_csv(file_path, parse_dates=['date'])\n",
        "df = df.sort_values(['symbol','date']).reset_index(drop=True)\n",
        "\n",
        "# Create lagged return feature and drop NaNs\n",
        "df['return_1d_lag1'] = df.groupby('symbol')['return_1d'].shift(1)\n",
        "df = df.dropna(subset=['return_1d_lag1']).reset_index(drop=True)\n",
        "\n",
        "# Chronological train/val/test split\n",
        "train = df[df['date'] <= '2021-12-31'].copy()\n",
        "val   = df[(df['date'] > '2021-12-31') & (df['date'] <= '2022-12-31')].copy()\n",
        "test  = df[df['date'] > '2022-12-31'].copy()\n",
        "\n",
        "print(f\"Train: {train.shape[0]} rows | Val: {val.shape[0]} rows | Test: {test.shape[0]} rows\")\n",
        "\n",
        "# Define feature sets\n",
        "price_feats = ['adj close', 'log_volume', 'ma_10', 'vol_30', 'rsi_14', 'return_1d_lag1']\n",
        "news_feats  = ['avg_sentiment', 'avg_sentiment_confidence', 'sentiment_std_7']\n",
        "weekday     = ['day_of_week']\n",
        "target      = 'target'\n",
        "\n",
        "# Preprocessor (one-hot weekday, passthrough everything else)\n",
        "preprocessor = ColumnTransformer([\n",
        "    ('onehot_wd', OneHotEncoder(drop='first', sparse_output=False), weekday)\n",
        "], remainder='passthrough')  # price_feats + news_feats untouched\n",
        "\n",
        "# Build LightGBM pipeline\n",
        "lgbm = lgb.LGBMClassifier(\n",
        "    n_estimators=200,\n",
        "    learning_rate=0.05,\n",
        "    random_state=42,\n",
        "    n_jobs=-1\n",
        ")\n",
        "\n",
        "pipeline = Pipeline([\n",
        "    ('preprocessor', preprocessor),\n",
        "    ('clf',          lgbm)\n",
        "])\n",
        "\n",
        "# Train on the train split\n",
        "X_train = train[price_feats + news_feats + weekday]\n",
        "y_train = train[target]\n",
        "pipeline.fit(X_train, y_train)\n",
        "\n",
        "# Evaluate on the test split\n",
        "X_test  = test[price_feats + news_feats + weekday]\n",
        "y_test  = test[target]\n",
        "y_pred  = pipeline.predict(X_test)\n",
        "y_proba = pipeline.predict_proba(X_test)[:, 1]\n",
        "\n",
        "# Print performance metrics\n",
        "print(\"\\nLightGBM Performance on Test Set (with return_1d_lag1):\")\n",
        "print(f\"  Accuracy      : {accuracy_score(y_test, y_pred):.4f}\")\n",
        "print(f\"  Precision     : {precision_score(y_test, y_pred):.4f}\")\n",
        "print(f\"  Recall        : {recall_score(y_test, y_pred):.4f}\")\n",
        "print(f\"  F1 Score      : {f1_score(y_test, y_pred):.4f}\")\n",
        "print(f\"  ROC AUC       : {roc_auc_score(y_test, y_proba):.4f}\")\n",
        "print(\"  Confusion Matrix:\")\n",
        "print(confusion_matrix(y_test, y_pred))"
      ],
      "metadata": {
        "colab": {
          "base_uri": "https://localhost:8080/"
        },
        "id": "i4woUw-IQcKA",
        "outputId": "99579717-0180-4940-eeac-a068e061da66"
      },
      "execution_count": 2,
      "outputs": [
        {
          "output_type": "stream",
          "name": "stdout",
          "text": [
            "Train: 3636876 rows | Val: 644115 rows | Test: 571664 rows\n",
            "[LightGBM] [Info] Number of positive: 1862573, number of negative: 1774303\n",
            "[LightGBM] [Info] Auto-choosing col-wise multi-threading, the overhead of testing was 0.103165 seconds.\n",
            "You can set `force_col_wise=true` to remove the overhead.\n",
            "[LightGBM] [Info] Total Bins 2134\n",
            "[LightGBM] [Info] Number of data points in the train set: 3636876, number of used features: 13\n",
            "[LightGBM] [Info] [binary:BoostFromScore]: pavg=0.512135 -> initscore=0.048551\n",
            "[LightGBM] [Info] Start training from score 0.048551\n",
            "\n",
            "LightGBM Performance on Test Set (with return_1d_lag1):\n",
            "  Accuracy      : 0.5220\n",
            "  Precision     : 0.5178\n",
            "  Recall        : 0.7560\n",
            "  F1 Score      : 0.6146\n",
            "  ROC AUC       : 0.5244\n",
            "  Confusion Matrix:\n",
            "[[ 80523 202919]\n",
            " [ 70328 217894]]\n"
          ]
        }
      ]
    }
  ]
}