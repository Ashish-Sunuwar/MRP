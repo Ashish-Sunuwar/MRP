{
  "nbformat": 4,
  "nbformat_minor": 0,
  "metadata": {
    "colab": {
      "provenance": [],
      "machine_shape": "hm"
    },
    "kernelspec": {
      "name": "python3",
      "display_name": "Python 3"
    },
    "language_info": {
      "name": "python"
    }
  },
  "cells": [
    {
      "cell_type": "code",
      "execution_count": 1,
      "metadata": {
        "colab": {
          "base_uri": "https://localhost:8080/"
        },
        "id": "XizBqyOAmshZ",
        "outputId": "7eec668d-d009-48c2-e0a7-6a3f3640d84d"
      },
      "outputs": [
        {
          "output_type": "stream",
          "name": "stdout",
          "text": [
            "Mounted at /content/drive\n"
          ]
        }
      ],
      "source": [
        "# Mount Google Drive\n",
        "from google.colab import drive\n",
        "drive.mount('/content/drive')"
      ]
    },
    {
      "cell_type": "code",
      "source": [
        "import pandas as pd\n",
        "from sklearn.compose import ColumnTransformer\n",
        "from sklearn.pipeline import Pipeline\n",
        "from sklearn.preprocessing import StandardScaler, OneHotEncoder\n",
        "from sklearn.linear_model import LogisticRegression\n",
        "from sklearn.metrics import (\n",
        "    accuracy_score, precision_score, recall_score,\n",
        "    f1_score, roc_auc_score, confusion_matrix\n",
        ")\n",
        "import warnings\n",
        "\n",
        "warnings.filterwarnings(\"ignore\")\n",
        "\n",
        "# Load & sort data\n",
        "file_path = '/content/drive/MyDrive/MRP/final_dataset.csv'\n",
        "df = pd.read_csv(file_path, parse_dates=['date'])\n",
        "df = df.sort_values(['symbol','date']).reset_index(drop=True)\n",
        "\n",
        "# Create lagged‐return feature\n",
        "df['return_1d_lag1'] = df.groupby('symbol')['return_1d'].shift(1)\n",
        "# drop the first row of each symbol (where lag is NaN)\n",
        "df = df.dropna(subset=['return_1d_lag1']).reset_index(drop=True)\n",
        "\n",
        "# Chronological splits\n",
        "train = df[df['date'] <= '2021-12-31'].copy()\n",
        "val   = df[(df['date'] >  '2021-12-31') & (df['date'] <= '2022-12-31')].copy()\n",
        "test  = df[df['date'] >  '2022-12-31'] .copy()\n",
        "\n",
        "print(f\"Train: {train.shape[0]} rows | Val: {val.shape[0]} rows | Test: {test.shape[0]} rows\")\n",
        "\n",
        "# Define features & target\n",
        "price_feats = [\n",
        "    'adj close',\n",
        "    'log_volume',\n",
        "    'ma_10',\n",
        "    'vol_30',\n",
        "    'rsi_14',\n",
        "    'return_1d_lag1'\n",
        "]\n",
        "weekday    = ['day_of_week']\n",
        "target     = 'target'\n",
        "\n",
        "# Build preprocessing pipeline\n",
        "preprocessor = ColumnTransformer([\n",
        "    # Standard‐scale all continuous price features (including our lag)\n",
        "    ('scale_price',    StandardScaler(), price_feats),\n",
        "    # One‐hot encode weekday (drop first to avoid collinearity)\n",
        "    ('onehot_weekday', OneHotEncoder(drop='first', sparse_output=False), weekday),\n",
        "], remainder='drop')\n",
        "\n",
        "# Full pipeline\n",
        "pipeline = Pipeline([\n",
        "    ('preprocessor', preprocessor),\n",
        "    ('clf',          LogisticRegression(\n",
        "                         random_state=42,\n",
        "                         max_iter=1000,\n",
        "                         solver='lbfgs'\n",
        "                     ))\n",
        "])\n",
        "\n",
        "# Fit on training set\n",
        "X_train = train[price_feats + weekday]\n",
        "y_train = train[target]\n",
        "pipeline.fit(X_train, y_train)\n",
        "\n",
        "# Evaluate on test set\n",
        "X_test  = test[price_feats + weekday]\n",
        "y_test  = test[target]\n",
        "y_pred  = pipeline.predict(X_test)\n",
        "y_proba = pipeline.predict_proba(X_test)[:, 1]\n",
        "\n",
        "print(\"\\nLogistic Regression Performance on Test Set:\")\n",
        "print(f\"  Accuracy   : {accuracy_score(y_test, y_pred):.4f}\")\n",
        "print(f\"  Precision  : {precision_score(y_test, y_pred):.4f}\")\n",
        "print(f\"  Recall     : {recall_score(y_test, y_pred):.4f}\")\n",
        "print(f\"  F1 Score   : {f1_score(y_test, y_pred):.4f}\")\n",
        "print(f\"  ROC AUC    : {roc_auc_score(y_test, y_proba):.4f}\")\n",
        "print(\"  Confusion Matrix:\")\n",
        "print(confusion_matrix(y_test, y_pred))"
      ],
      "metadata": {
        "colab": {
          "base_uri": "https://localhost:8080/"
        },
        "id": "LOjMmddYmt56",
        "outputId": "23f656c5-ce2e-4523-e679-3d11672c8fb7"
      },
      "execution_count": 2,
      "outputs": [
        {
          "output_type": "stream",
          "name": "stdout",
          "text": [
            "Train: 3636876 rows | Val: 644115 rows | Test: 571664 rows\n",
            "\n",
            "Logistic Regression Performance on Test Set:\n",
            "  Accuracy   : 0.5201\n",
            "  Precision  : 0.5152\n",
            "  Recall     : 0.8151\n",
            "  F1 Score   : 0.6314\n",
            "  ROC AUC    : 0.5203\n",
            "  Confusion Matrix:\n",
            "[[ 62424 221018]\n",
            " [ 53302 234920]]\n"
          ]
        }
      ]
    }
  ]
}